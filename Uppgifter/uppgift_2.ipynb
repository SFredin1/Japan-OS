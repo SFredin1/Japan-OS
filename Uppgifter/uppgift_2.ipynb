{
 "cells": [
  {
   "cell_type": "markdown",
   "metadata": {},
   "source": [
    "## Uppgift 2 - Sportstatistik\n",
    "Välj 2-4 sporter och skapa lämpliga grafer/diagram för att visualisera exempelvis:\n",
    "- medaljfördelning mellan länder i sporterna\n",
    "- åldersfördelning i sporterna\n",
    "\n",
    "Skapa fler plots för att visualisera olika aspekter kring sporterna."
   ]
  },
  {
   "cell_type": "code",
   "execution_count": 36,
   "metadata": {},
   "outputs": [],
   "source": [
    "import pandas as pd\n",
    "import plotly_express as px\n",
    "import matplotlib.pyplot as plt\n",
    "import seaborn as sns\n",
    "import numpy as np"
   ]
  },
  {
   "cell_type": "code",
   "execution_count": null,
   "metadata": {},
   "outputs": [],
   "source": [
    "athlete_events = pd.read_csv(\"../Uppgifter/Filer/athlete_events.csv\")\n",
    "athlete_events.head(3)"
   ]
  },
  {
   "cell_type": "code",
   "execution_count": null,
   "metadata": {},
   "outputs": [],
   "source": [
    "sports = athlete_events[athlete_events['Sport'].isin(['Judo', 'Football', 'Basketball'])]\n",
    "medals = athlete_events[athlete_events['Medal'].isin(['Gold', 'Silver', 'Bronze'])]\n",
    "\n",
    "medals['Medal_count'] = 1\n",
    "\n",
    "sports_medals = pd.merge(sports, medals, how='inner', on=['Sport', 'NOC'])\n",
    "\n",
    "fig = px.sunburst(sports_medals, path=['Sport', 'Medal', 'NOC'], values='Medal', color='NOC')\n",
    "fig.show()\n"
   ]
  },
  {
   "cell_type": "code",
   "execution_count": null,
   "metadata": {},
   "outputs": [],
   "source": [
    "\n",
    "sports = athlete_events[athlete_events['Sport'].isin(['Judo', 'Football', 'Basketball'])]\n",
    "medals = athlete_events[athlete_events['Medal'].isin(['Gold', 'Silver', 'Bronze'])]\n",
    "\n",
    "# Create a new column 'Medal_Count' to represent the count of medals for each entry\n",
    "medals['Medal_Count'] = 1\n",
    "\n",
    "sports_medals = pd.merge(sports, medals, how='inner', on=['Sport', 'NOC'])\n",
    "\n",
    "fig = px.sunburst(sports_medals, path=['Sport', 'Medal', 'NOC'], values='Medal_Count', color='NOC')\n",
    "fig.show()"
   ]
  },
  {
   "cell_type": "code",
   "execution_count": null,
   "metadata": {},
   "outputs": [],
   "source": [
    "import plotly.express as px\n",
    "import numpy as np\n",
    "df = px.data.gapminder().query(\"year == 2007\")\n",
    "fig = px.sunburst(df, path=['continent', 'country'], values='pop',\n",
    "                  color='lifeExp', hover_data=['iso_alpha'],\n",
    "                  color_continuous_scale='RdBu',\n",
    "                  color_continuous_midpoint=np.average(df['lifeExp'], weights=df['pop']))\n",
    "fig.show()"
   ]
  }
 ],
 "metadata": {
  "kernelspec": {
   "display_name": "Python 3",
   "language": "python",
   "name": "python3"
  },
  "language_info": {
   "codemirror_mode": {
    "name": "ipython",
    "version": 3
   },
   "file_extension": ".py",
   "mimetype": "text/x-python",
   "name": "python",
   "nbconvert_exporter": "python",
   "pygments_lexer": "ipython3",
   "version": "3.11.5"
  }
 },
 "nbformat": 4,
 "nbformat_minor": 2
}
