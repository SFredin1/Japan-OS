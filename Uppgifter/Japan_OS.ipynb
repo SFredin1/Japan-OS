{
 "cells": [
  {
   "cell_type": "code",
   "execution_count": 1,
   "metadata": {},
   "outputs": [],
   "source": [
    "from dash import Dash, html, dcc, callback, Output, Input\n",
    "from dash_bootstrap_templates import load_figure_template\n",
    "from dash import dash_table\n",
    "import dash_bootstrap_components as dbc\n",
    "import plotly_express as px\n",
    "import pandas as pd\n",
    "import matplotlib.pyplot as plt\n",
    "import seaborn as sns\n",
    "import numpy as np"
   ]
  },
  {
   "cell_type": "code",
   "execution_count": 6,
   "metadata": {},
   "outputs": [
    {
     "name": "stdout",
     "output_type": "stream",
     "text": [
      "Dash app running on http://127.0.0.1:8050/\n"
     ]
    }
   ],
   "source": [
    "# Ladda in datasetet\n",
    "athletes_events = pd.read_csv(\"../Uppgifter/Filer/athlete_events.csv\")\n",
    "medals = athletes_events.groupby([\"NOC\", \"Medal\", \"Sport\"], as_index=False).size().rename(columns={\"size\": \"Medal_count\"})\n",
    "\n",
    "japan_data = athletes_events[athletes_events['NOC'] == 'JPN']\n",
    "\n",
    "japan_medals = japan_data[japan_data['Medal'].isin(['Gold', 'Silver', 'Bronze'])]\n",
    "japan_medals\n",
    "\n",
    "most_medals = japan_medals.groupby(\"Sport\")[\"Medal\"].count().reset_index()\n",
    "most_medals_sport = most_medals.loc[most_medals[\"Medal\"].idxmax(), \"Sport\"]\n",
    "\n",
    "top_5_sports = most_medals.sort_values(by=\"Medal\", ascending=False).head(5)\n",
    "\n",
    "athlete_ages = japan_data.groupby(\"Age\")[[\"Sex\", \"Medal\"]].count().reset_index()\n",
    "athlete_ages = athlete_ages.rename(columns={\"Sex\": \"Number_of_people\", \"Medal\": \"Number_of_medals\"})\n",
    "\n",
    "# Grupperar efter OS och räknar antalet medaljer\n",
    "medals_per_year = japan_medals.groupby(\"Games\")[\"Medal\"].count().reset_index()\n",
    "\n",
    "sns.set(style=\"darkgrid\")\n",
    "\n",
    "load_figure_template(\"darkly\")\n",
    "\n",
    "# Initiera dash, välj tema/utseende\n",
    "app = Dash(\n",
    "    __name__, \n",
    "    external_stylesheets=[dbc.themes.DARKLY],\n",
    "    meta_tags=[{\"name\": \"viewport\", \"content\": \"width=device-width, initial-scale=1\"}]\n",
    ")\n",
    "\n",
    "# App-layout, titel och graf för japans top 5 sporter\n",
    "app.layout = dbc.Container([\n",
    "    dbc.Row([\n",
    "    dbc.Col([\n",
    "        #dbc.Col(html.Img(src=app.get_asset_url('C:\\Users\\user\\Documents\\GitHub\\Japan_OS\\Japan-OS\\Uppgifter\\Filer\\japan_ålder_graf.jpg')), width={'size': 6, 'offset': 3}),\n",
    "        html.H1(\"Japans OS-Historia: Första till Senaste\", className='text-center text-primary mx-3'),\n",
    "        html.Br(),\n",
    "        dcc.Graph(\n",
    "            id=\"medals_sport_graph\",\n",
    "            figure=px.bar(\n",
    "                medals_per_year,\n",
    "                x=\"Games\",\n",
    "                y=\"Medal\",\n",
    "                color=\"Games\",\n",
    "                title=\"Antal medaljer OS, Japan\"\n",
    "            )\n",
    "        ),\n",
    "        dcc.Graph(\n",
    "            id=\"top_sports_graph\",\n",
    "            figure=px.bar(\n",
    "                top_5_sports,\n",
    "                x=\"Sport\",\n",
    "                y=\"Medal\",\n",
    "                color=\"Sport\",\n",
    "                title=\"Topp 5 sporter med flest medaljer för Japan\"\n",
    "            )\n",
    "        ),\n",
    "        dcc.Markdown('''\n",
    "            ![Japan Age Graph](Uppgifter\\\\Filer\\\\japan_ålder_graf.jpg)\n",
    "            '''),\n",
    "        \n",
    "    ], width=12, style={'text-align': 'center'})\n",
    "]),\n",
    "\n",
    "    # Dropdown medaljfördelning\n",
    "    dbc.Row([\n",
    "        dbc.Col(\n",
    "            [\n",
    "                dcc.Dropdown(\n",
    "                    id=\"single_dropdown\",\n",
    "                    multi=False,\n",
    "                    searchable=False,\n",
    "                    className='mb-2',\n",
    "                    value=athletes_events[\"Sport\"].unique()[0],  # Första sporten som standardval\n",
    "                    options=[{'label': sport, 'value': sport} for sport in sorted(athletes_events[\"Sport\"].unique())],\n",
    "                    style={'color': '#333', 'text-align': 'left'}\n",
    "                ),\n",
    "                dcc.Graph(id=\"Medal_graph\")\n",
    "            ], xs=12, sm=12, md=12, lg=6\n",
    "        ),\n",
    "    ], justify=\"center\"),\n",
    "\n",
    "    # Dropdown åldersfördelning\n",
    "    dbc.Row([\n",
    "        dbc.Col([\n",
    "            dcc.Dropdown(\n",
    "                id=\"age_dropdown\", \n",
    "                multi=False, \n",
    "                searchable=False, \n",
    "                className='mb-2', \n",
    "                value=athletes_events[\"Sport\"].unique()[0],  # Första sporten som standardval\n",
    "                options=[{'label': sport, 'value': sport} for sport in sorted(athletes_events[\"Sport\"].unique())],\n",
    "                style={'color': '#333', 'text-align': 'left'}\n",
    "            ),\n",
    "            dcc.Graph(id=\"Age_graph\")\n",
    "        ], xs=12, sm=12, md=12, lg=6),       \n",
    "    ], justify=\"center\"),\n",
    "\n",
    "], fluid=True)\n",
    "\n",
    "\n",
    "\n",
    "# Graf medaljer i olika sporter Japan\n",
    "def medals_in_sports(data):\n",
    "    medals_per_year = data.groupby(\"Games\")[\"Medal\"].count().reset_index()\n",
    "    fig = px.bar(\n",
    "        medals_per_year,\n",
    "        x=\"Games\",\n",
    "        y=\"Medal\",\n",
    "        color=\"Medal\",\n",
    "        title=\"Antal Olympiska Medaljer per OS för Japan\"\n",
    "    )\n",
    "    return fig\n",
    "\n",
    "\n",
    "# Graf top 5 sporter Japan\n",
    "def top_5_sports(selected_sport):\n",
    "    selected_sport_data = most_medals[most_medals['Sport'] == selected_sport]\n",
    "    fig = px.bar(selected_sport_data, x=\"Sport\", y=\"Medal\", color=\"Sport\")\n",
    "    return fig\n",
    "\n",
    "\n",
    "# Åldersfördelning\n",
    "@app.callback(\n",
    "    Output(\"Age_graph\", \"figure\"),\n",
    "    Input(\"age_dropdown\", \"value\")\n",
    ")\n",
    "def update_age_distribution(selected_sport):\n",
    "    filtered_df = athletes_events[athletes_events[\"Sport\"] == selected_sport] \n",
    "    filtered_df = filtered_df.dropna(subset=['Age'])\n",
    "    counts, bins = np.histogram(filtered_df['Age'], bins=range(int(filtered_df['Age'].min()), int(filtered_df['Age'].max()) + 1, 1))\n",
    "    bar_data = pd.DataFrame({'Age': bins[:-1], 'Count': counts})\n",
    "    figure = px.bar(bar_data, x='Age', y='Count', title=f'Åldersfördelning för {selected_sport}')\n",
    "    return figure\n",
    "\n",
    "\n",
    "# Medaljfördelning\n",
    "@app.callback(\n",
    "    Output(\"Medal_graph\", \"figure\"),\n",
    "    Input(\"single_dropdown\", \"value\")\n",
    ")\n",
    "def top_5_countries(selected_sport):\n",
    "    df = medals.query(f\"Sport=='{selected_sport}'\")\n",
    "    grouped_df = df.groupby(\"NOC\", as_index=False)[\"Medal_count\"].sum()\n",
    "    top_5_countries = list(grouped_df.sort_values(\"Medal_count\", ascending=False).head(5)[\"NOC\"])\n",
    "    df = df[df[\"NOC\"].isin(top_5_countries)]\n",
    "    fig = px.sunburst(df, path=['NOC', 'Medal'], values='Medal_count', color='NOC', hover_name='Medal_count')\n",
    "    return fig\n",
    "\n",
    "#if __name__ == '__main__':\n",
    "    \n",
    "app.run(debug=True, jupyter_mode=\"external\")\n",
    "\n"
   ]
  },
  {
   "cell_type": "code",
   "execution_count": null,
   "metadata": {},
   "outputs": [
    {
     "data": {
      "image/png": "[encoded data removed]",
      "text/plain": [
       "<Figure size 1200x600 with 1 Axes>"
      ]
     },
     "metadata": {},
     "output_type": "display_data"
    }
   ],
   "source": [
    "athlete_ages = japan_data.groupby(\"Age\")[[\"Sex\", \"Medal\"]].count().reset_index()\n",
    "athlete_ages = athlete_ages.rename(columns={\"Sex\": \"Number_of_people\", \"Medal\": \"Number_of_medals\"})\n",
    "\n",
    "sns.set(style=\"darkgrid\")\n",
    "\n",
    "# Create a histogram plot\n",
    "plt.figure(figsize=(12, 6))\n",
    "sns.histplot(data=japan_data, x=\"Age\", bins=30, kde=False, color=\"black\")\n",
    "plt.title('Distribution of Ages in Japan Dataset')\n",
    "plt.xlabel('Age')\n",
    "plt.ylabel('Count')\n",
    "\n",
    "\n",
    "img = plt.imread(\"../Uppgifter/Filer/japan.png\")\n",
    "plt.imshow(img, extent=[min(japan_data['Age']), max(japan_data['Age']), 0, 1600], aspect='auto', alpha=0.3)\n",
    "\n",
    "plt.show() "
   ]
  },
  {
   "cell_type": "code",
   "execution_count": null,
   "metadata": {},
   "outputs": [
    {
     "data": {
      "application/vnd.plotly.v1+json": {
       "config": {
        "plotlyServerURL": "https://plot.ly"
       },
       "data": [
        {
         "alignmentgroup": "True",
         "hovertemplate": "Games=%{x}<br>Medal=%{marker.color}<extra></extra>",
         "legendgroup": "",
         "marker": {
          "color": [
           3,
           1,
           9,
           31,
           23,
           12,
           24,
           1,
           31,
           62,
           63,
           56,
           3,
           41,
           1,
           49,
           1,
           20,
           1,
           47,
           12,
           10,
           42,
           13,
           44,
           2,
           93,
           1,
           51,
           7,
           84,
           11,
           64
          ],
          "coloraxis": "coloraxis",
          "pattern": {
           "shape": ""
          }
         },
         "name": "",
         "offsetgroup": "",
         "orientation": "v",
         "showlegend": false,
         "textposition": "auto",
         "type": "bar",
         "x": [
          "1920 Summer",
          "1924 Summer",
          "1928 Summer",
          "1932 Summer",
          "1936 Summer",
          "1952 Summer",
          "1956 Summer",
          "1956 Winter",
          "1960 Summer",
          "1964 Summer",
          "1968 Summer",
          "1972 Summer",
          "1972 Winter",
          "1976 Summer",
          "1980 Winter",
          "1984 Summer",
          "1984 Winter",
          "1988 Summer",
          "1988 Winter",
          "1992 Summer",
          "1992 Winter",
          "1994 Winter",
          "1996 Summer",
          "1998 Winter",
          "2000 Summer",
          "2002 Winter",
          "2004 Summer",
          "2006 Winter",
          "2008 Summer",
          "2010 Winter",
          "2012 Summer",
          "2014 Winter",
          "2016 Summer"
         ],
         "xaxis": "x",
         "y": [
          3,
          1,
          9,
          31,
          23,
          12,
          24,
          1,
          31,
          62,
          63,
          56,
          3,
          41,
          1,
          49,
          1,
          20,
          1,
          47,
          12,
          10,
          42,
          13,
          44,
          2,
          93,
          1,
          51,
          7,
          84,
          11,
          64
         ],
         "yaxis": "y"
        }
       ],
       "layout": {
        "barmode": "relative",
        "coloraxis": {
         "colorbar": {
          "title": {
           "text": "Medal"
          }
         },
         "colorscale": [
          [
           0,
           "#0d0887"
          ],
          [
           0.1111111111111111,
           "#46039f"
          ],
          [
           0.2222222222222222,
           "#7201a8"
          ],
          [
           0.3333333333333333,
           "#9c179e"
          ],
          [
           0.4444444444444444,
           "#bd3786"
          ],
          [
           0.5555555555555556,
           "#d8576b"
          ],
          [
           0.6666666666666666,
           "#ed7953"
          ],
          [
           0.7777777777777778,
           "#fb9f3a"
          ],
          [
           0.8888888888888888,
           "#fdca26"
          ],
          [
           1,
           "#f0f921"
          ]
         ]
        },
        "legend": {
         "tracegroupgap": 0
        },
        "template": {
         "data": {
          "bar": [
           {
            "error_x": {
             "color": "#2a3f5f"
            },
            "error_y": {
             "color": "#2a3f5f"
            },
            "marker": {
             "line": {
              "color": "#E5ECF6",
              "width": 0.5
             },
             "pattern": {
              "fillmode": "overlay",
              "size": 10,
              "solidity": 0.2
             }
            },
            "type": "bar"
           }
          ],
          "barpolar": [
           {
            "marker": {
             "line": {
              "color": "#E5ECF6",
              "width": 0.5
             },
             "pattern": {
              "fillmode": "overlay",
              "size": 10,
              "solidity": 0.2
             }
            },
            "type": "barpolar"
           }
          ],
          "carpet": [
           {
            "aaxis": {
             "endlinecolor": "#2a3f5f",
             "gridcolor": "white",
             "linecolor": "white",
             "minorgridcolor": "white",
             "startlinecolor": "#2a3f5f"
            },
            "baxis": {
             "endlinecolor": "#2a3f5f",
             "gridcolor": "white",
             "linecolor": "white",
             "minorgridcolor": "white",
             "startlinecolor": "#2a3f5f"
            },
            "type": "carpet"
           }
          ],
          "choropleth": [
           {
            "colorbar": {
             "outlinewidth": 0,
             "ticks": ""
            },
            "type": "choropleth"
           }
          ],
          "contour": [
           {
            "colorbar": {
             "outlinewidth": 0,
             "ticks": ""
            },
            "colorscale": [
             [
              0,
              "#0d0887"
             ],
             [
              0.1111111111111111,
              "#46039f"
             ],
             [
              0.2222222222222222,
              "#7201a8"
             ],
             [
              0.3333333333333333,
              "#9c179e"
             ],
             [
              0.4444444444444444,
              "#bd3786"
             ],
             [
              0.5555555555555556,
              "#d8576b"
             ],
             [
              0.6666666666666666,
              "#ed7953"
             ],
             [
              0.7777777777777778,
              "#fb9f3a"
             ],
             [
              0.8888888888888888,
              "#fdca26"
             ],
             [
              1,
              "#f0f921"
             ]
            ],
            "type": "contour"
           }
          ],
          "contourcarpet": [
           {
            "colorbar": {
             "outlinewidth": 0,
             "ticks": ""
            },
            "type": "contourcarpet"
           }
          ],
          "heatmap": [
           {
            "colorbar": {
             "outlinewidth": 0,
             "ticks": ""
            },
            "colorscale": [
             [
              0,
              "#0d0887"
             ],
             [
              0.1111111111111111,
              "#46039f"
             ],
             [
              0.2222222222222222,
              "#7201a8"
             ],
             [
              0.3333333333333333,
              "#9c179e"
             ],
             [
              0.4444444444444444,
              "#bd3786"
             ],
             [
              0.5555555555555556,
              "#d8576b"
             ],
             [
              0.6666666666666666,
              "#ed7953"
             ],
             [
              0.7777777777777778,
              "#fb9f3a"
             ],
             [
              0.8888888888888888,
              "#fdca26"
             ],
             [
              1,
              "#f0f921"
             ]
            ],
            "type": "heatmap"
           }
          ],
          "heatmapgl": [
           {
            "colorbar": {
             "outlinewidth": 0,
             "ticks": ""
            },
            "colorscale": [
             [
              0,
              "#0d0887"
             ],
             [
              0.1111111111111111,
              "#46039f"
             ],
             [
              0.2222222222222222,
              "#7201a8"
             ],
             [
              0.3333333333333333,
              "#9c179e"
             ],
             [
              0.4444444444444444,
              "#bd3786"
             ],
             [
              0.5555555555555556,
              "#d8576b"
             ],
             [
              0.6666666666666666,
              "#ed7953"
             ],
             [
              0.7777777777777778,
              "#fb9f3a"
             ],
             [
              0.8888888888888888,
              "#fdca26"
             ],
             [
              1,
              "#f0f921"
             ]
            ],
            "type": "heatmapgl"
           }
          ],
          "histogram": [
           {
            "marker": {
             "pattern": {
              "fillmode": "overlay",
              "size": 10,
              "solidity": 0.2
             }
            },
            "type": "histogram"
           }
          ],
          "histogram2d": [
           {
            "colorbar": {
             "outlinewidth": 0,
             "ticks": ""
            },
            "colorscale": [
             [
              0,
              "#0d0887"
             ],
             [
              0.1111111111111111,
              "#46039f"
             ],
             [
              0.2222222222222222,
              "#7201a8"
             ],
             [
              0.3333333333333333,
              "#9c179e"
             ],
             [
              0.4444444444444444,
              "#bd3786"
             ],
             [
              0.5555555555555556,
              "#d8576b"
             ],
             [
              0.6666666666666666,
              "#ed7953"
             ],
             [
              0.7777777777777778,
              "#fb9f3a"
             ],
             [
              0.8888888888888888,
              "#fdca26"
             ],
             [
              1,
              "#f0f921"
             ]
            ],
            "type": "histogram2d"
           }
          ],
          "histogram2dcontour": [
           {
            "colorbar": {
             "outlinewidth": 0,
             "ticks": ""
            },
            "colorscale": [
             [
              0,
              "#0d0887"
             ],
             [
              0.1111111111111111,
              "#46039f"
             ],
             [
              0.2222222222222222,
              "#7201a8"
             ],
             [
              0.3333333333333333,
              "#9c179e"
             ],
             [
              0.4444444444444444,
              "#bd3786"
             ],
             [
              0.5555555555555556,
              "#d8576b"
             ],
             [
              0.6666666666666666,
              "#ed7953"
             ],
             [
              0.7777777777777778,
              "#fb9f3a"
             ],
             [
              0.8888888888888888,
              "#fdca26"
             ],
             [
              1,
              "#f0f921"
             ]
            ],
            "type": "histogram2dcontour"
           }
          ],
          "mesh3d": [
           {
            "colorbar": {
             "outlinewidth": 0,
             "ticks": ""
            },
            "type": "mesh3d"
           }
          ],
          "parcoords": [
           {
            "line": {
             "colorbar": {
              "outlinewidth": 0,
              "ticks": ""
             }
            },
            "type": "parcoords"
           }
          ],
          "pie": [
           {
            "automargin": true,
            "type": "pie"
           }
          ],
          "scatter": [
           {
            "fillpattern": {
             "fillmode": "overlay",
             "size": 10,
             "solidity": 0.2
            },
            "type": "scatter"
           }
          ],
          "scatter3d": [
           {
            "line": {
             "colorbar": {
              "outlinewidth": 0,
              "ticks": ""
             }
            },
            "marker": {
             "colorbar": {
              "outlinewidth": 0,
              "ticks": ""
             }
            },
            "type": "scatter3d"
           }
          ],
          "scattercarpet": [
           {
            "marker": {
             "colorbar": {
              "outlinewidth": 0,
              "ticks": ""
             }
            },
            "type": "scattercarpet"
           }
          ],
          "scattergeo": [
           {
            "marker": {
             "colorbar": {
              "outlinewidth": 0,
              "ticks": ""
             }
            },
            "type": "scattergeo"
           }
          ],
          "scattergl": [
           {
            "marker": {
             "colorbar": {
              "outlinewidth": 0,
              "ticks": ""
             }
            },
            "type": "scattergl"
           }
          ],
          "scattermapbox": [
           {
            "marker": {
             "colorbar": {
              "outlinewidth": 0,
              "ticks": ""
             }
            },
            "type": "scattermapbox"
           }
          ],
          "scatterpolar": [
           {
            "marker": {
             "colorbar": {
              "outlinewidth": 0,
              "ticks": ""
             }
            },
            "type": "scatterpolar"
           }
          ],
          "scatterpolargl": [
           {
            "marker": {
             "colorbar": {
              "outlinewidth": 0,
              "ticks": ""
             }
            },
            "type": "scatterpolargl"
           }
          ],
          "scatterternary": [
           {
            "marker": {
             "colorbar": {
              "outlinewidth": 0,
              "ticks": ""
             }
            },
            "type": "scatterternary"
           }
          ],
          "surface": [
           {
            "colorbar": {
             "outlinewidth": 0,
             "ticks": ""
            },
            "colorscale": [
             [
              0,
              "#0d0887"
             ],
             [
              0.1111111111111111,
              "#46039f"
             ],
             [
              0.2222222222222222,
              "#7201a8"
             ],
             [
              0.3333333333333333,
              "#9c179e"
             ],
             [
              0.4444444444444444,
              "#bd3786"
             ],
             [
              0.5555555555555556,
              "#d8576b"
             ],
             [
              0.6666666666666666,
              "#ed7953"
             ],
             [
              0.7777777777777778,
              "#fb9f3a"
             ],
             [
              0.8888888888888888,
              "#fdca26"
             ],
             [
              1,
              "#f0f921"
             ]
            ],
            "type": "surface"
           }
          ],
          "table": [
           {
            "cells": {
             "fill": {
              "color": "#EBF0F8"
             },
             "line": {
              "color": "white"
             }
            },
            "header": {
             "fill": {
              "color": "#C8D4E3"
             },
             "line": {
              "color": "white"
             }
            },
            "type": "table"
           }
          ]
         },
         "layout": {
          "annotationdefaults": {
           "arrowcolor": "#2a3f5f",
           "arrowhead": 0,
           "arrowwidth": 1
          },
          "autotypenumbers": "strict",
          "coloraxis": {
           "colorbar": {
            "outlinewidth": 0,
            "ticks": ""
           }
          },
          "colorscale": {
           "diverging": [
            [
             0,
             "#8e0152"
            ],
            [
             0.1,
             "#c51b7d"
            ],
            [
             0.2,
             "#de77ae"
            ],
            [
             0.3,
             "#f1b6da"
            ],
            [
             0.4,
             "#fde0ef"
            ],
            [
             0.5,
             "#f7f7f7"
            ],
            [
             0.6,
             "#e6f5d0"
            ],
            [
             0.7,
             "#b8e186"
            ],
            [
             0.8,
             "#7fbc41"
            ],
            [
             0.9,
             "#4d9221"
            ],
            [
             1,
             "#276419"
            ]
           ],
           "sequential": [
            [
             0,
             "#0d0887"
            ],
            [
             0.1111111111111111,
             "#46039f"
            ],
            [
             0.2222222222222222,
             "#7201a8"
            ],
            [
             0.3333333333333333,
             "#9c179e"
            ],
            [
             0.4444444444444444,
             "#bd3786"
            ],
            [
             0.5555555555555556,
             "#d8576b"
            ],
            [
             0.6666666666666666,
             "#ed7953"
            ],
            [
             0.7777777777777778,
             "#fb9f3a"
            ],
            [
             0.8888888888888888,
             "#fdca26"
            ],
            [
             1,
             "#f0f921"
            ]
           ],
           "sequentialminus": [
            [
             0,
             "#0d0887"
            ],
            [
             0.1111111111111111,
             "#46039f"
            ],
            [
             0.2222222222222222,
             "#7201a8"
            ],
            [
             0.3333333333333333,
             "#9c179e"
            ],
            [
             0.4444444444444444,
             "#bd3786"
            ],
            [
             0.5555555555555556,
             "#d8576b"
            ],
            [
             0.6666666666666666,
             "#ed7953"
            ],
            [
             0.7777777777777778,
             "#fb9f3a"
            ],
            [
             0.8888888888888888,
             "#fdca26"
            ],
            [
             1,
             "#f0f921"
            ]
           ]
          },
          "colorway": [
           "#636efa",
           "#EF553B",
           "#00cc96",
           "#ab63fa",
           "#FFA15A",
           "#19d3f3",
           "#FF6692",
           "#B6E880",
           "#FF97FF",
           "#FECB52"
          ],
          "font": {
           "color": "#2a3f5f"
          },
          "geo": {
           "bgcolor": "white",
           "lakecolor": "white",
           "landcolor": "#E5ECF6",
           "showlakes": true,
           "showland": true,
           "subunitcolor": "white"
          },
          "hoverlabel": {
           "align": "left"
          },
          "hovermode": "closest",
          "mapbox": {
           "style": "light"
          },
          "paper_bgcolor": "white",
          "plot_bgcolor": "#E5ECF6",
          "polar": {
           "angularaxis": {
            "gridcolor": "white",
            "linecolor": "white",
            "ticks": ""
           },
           "bgcolor": "#E5ECF6",
           "radialaxis": {
            "gridcolor": "white",
            "linecolor": "white",
            "ticks": ""
           }
          },
          "scene": {
           "xaxis": {
            "backgroundcolor": "#E5ECF6",
            "gridcolor": "white",
            "gridwidth": 2,
            "linecolor": "white",
            "showbackground": true,
            "ticks": "",
            "zerolinecolor": "white"
           },
           "yaxis": {
            "backgroundcolor": "#E5ECF6",
            "gridcolor": "white",
            "gridwidth": 2,
            "linecolor": "white",
            "showbackground": true,
            "ticks": "",
            "zerolinecolor": "white"
           },
           "zaxis": {
            "backgroundcolor": "#E5ECF6",
            "gridcolor": "white",
            "gridwidth": 2,
            "linecolor": "white",
            "showbackground": true,
            "ticks": "",
            "zerolinecolor": "white"
           }
          },
          "shapedefaults": {
           "line": {
            "color": "#2a3f5f"
           }
          },
          "ternary": {
           "aaxis": {
            "gridcolor": "white",
            "linecolor": "white",
            "ticks": ""
           },
           "baxis": {
            "gridcolor": "white",
            "linecolor": "white",
            "ticks": ""
           },
           "bgcolor": "#E5ECF6",
           "caxis": {
            "gridcolor": "white",
            "linecolor": "white",
            "ticks": ""
           }
          },
          "title": {
           "x": 0.05
          },
          "xaxis": {
           "automargin": true,
           "gridcolor": "white",
           "linecolor": "white",
           "ticks": "",
           "title": {
            "standoff": 15
           },
           "zerolinecolor": "white",
           "zerolinewidth": 2
          },
          "yaxis": {
           "automargin": true,
           "gridcolor": "white",
           "linecolor": "white",
           "ticks": "",
           "title": {
            "standoff": 15
           },
           "zerolinecolor": "white",
           "zerolinewidth": 2
          }
         }
        },
        "title": {
         "text": "Antal Olympiska Medaljer per OS för Japan"
        },
        "xaxis": {
         "anchor": "y",
         "domain": [
          0,
          1
         ],
         "title": {
          "text": "Games"
         }
        },
        "yaxis": {
         "anchor": "x",
         "domain": [
          0,
          1
         ],
         "title": {
          "text": "Medal"
         }
        }
       }
      }
     },
     "metadata": {},
     "output_type": "display_data"
    },
    {
     "name": "stdout",
     "output_type": "stream",
     "text": [
      "          Games  Medal\n",
      "0   1920 Summer      3\n",
      "1   1924 Summer      1\n",
      "2   1928 Summer      9\n",
      "3   1932 Summer     31\n",
      "4   1936 Summer     23\n",
      "5   1952 Summer     12\n",
      "6   1956 Summer     24\n",
      "7   1956 Winter      1\n",
      "8   1960 Summer     31\n",
      "9   1964 Summer     62\n",
      "10  1968 Summer     63\n",
      "11  1972 Summer     56\n",
      "12  1972 Winter      3\n",
      "13  1976 Summer     41\n",
      "14  1980 Winter      1\n",
      "15  1984 Summer     49\n",
      "16  1984 Winter      1\n",
      "17  1988 Summer     20\n",
      "18  1988 Winter      1\n",
      "19  1992 Summer     47\n",
      "20  1992 Winter     12\n",
      "21  1994 Winter     10\n",
      "22  1996 Summer     42\n",
      "23  1998 Winter     13\n",
      "24  2000 Summer     44\n",
      "25  2002 Winter      2\n",
      "26  2004 Summer     93\n",
      "27  2006 Winter      1\n",
      "28  2008 Summer     51\n",
      "29  2010 Winter      7\n",
      "30  2012 Summer     84\n",
      "31  2014 Winter     11\n",
      "32  2016 Summer     64\n"
     ]
    }
   ],
   "source": [
    "# Grupperar efter OS och räknar antalet medaljer\n",
    "medals_per_year = japan_medals.groupby(\"Games\")[\"Medal\"].count().reset_index()\n",
    "\n",
    "# Skapar en graf\n",
    "fig = px.bar(medals_per_year, x=\"Games\", y=\"Medal\", color=\"Medal\", title=\"Antal Olympiska Medaljer per OS för Japan\")\n",
    "fig.show()\n",
    "\n",
    "print(medals_per_year)"
   ]
  }
 ],
 "metadata": {
  "kernelspec": {
   "display_name": "Python 3",
   "language": "python",
   "name": "python3"
  },
  "language_info": {
   "codemirror_mode": {
    "name": "ipython",
    "version": 3
   },
   "file_extension": ".py",
   "mimetype": "text/x-python",
   "name": "python",
   "nbconvert_exporter": "python",
   "pygments_lexer": "ipython3",
   "version": "3.11.5"
  }
 },
 "nbformat": 4,
 "nbformat_minor": 2
}
